{
 "cells": [
  {
   "cell_type": "markdown",
   "metadata": {},
   "source": [
    "# <Center> Gerrymandering Integer Programming"
   ]
  },
  {
   "cell_type": "markdown",
   "metadata": {},
   "source": [
    "### Notebook follows example found at this link: https://ocw.mit.edu/courses/sloan-school-of-management/15-071-the-analytics-edge-spring-2017/integer-optimization/assignment-9/gerrymandering-new-mexico/"
   ]
  },
  {
   "cell_type": "code",
   "execution_count": 53,
   "metadata": {},
   "outputs": [],
   "source": [
    "import numpy as np\n",
    "import cvxpy\n",
    "from cvxpy import *\n",
    "import matplotlib.pyplot as plt\n",
    "import pandas as pd\n",
    "import contextily as ctx \n",
    "import geopandas as gpd \n",
    "import os \n",
    "from mpl_toolkits.axes_grid1 import make_axes_locatable"
   ]
  },
  {
   "cell_type": "code",
   "execution_count": 54,
   "metadata": {},
   "outputs": [
    {
     "data": {
      "text/html": [
       "<div><div id=ccad9b97-e923-485b-ad97-140bafc6097c style=\"display:none; background-color:#9D6CFF; color:white; width:200px; height:30px; padding-left:5px; border-radius:4px; flex-direction:row; justify-content:space-around; align-items:center;\" onmouseover=\"this.style.backgroundColor='#BA9BF8'\" onmouseout=\"this.style.backgroundColor='#9D6CFF'\" onclick=\"window.commands?.execute('create-mitosheet-from-dataframe-output');\">See Full Dataframe in Mito</div> <script> if (window.commands.hasCommand('create-mitosheet-from-dataframe-output')) document.getElementById('ccad9b97-e923-485b-ad97-140bafc6097c').style.display = 'flex' </script> <table border=\"1\" class=\"dataframe\">\n",
       "  <thead>\n",
       "    <tr style=\"text-align: right;\">\n",
       "      <th></th>\n",
       "      <th>County</th>\n",
       "      <th>District 1</th>\n",
       "      <th>District 2</th>\n",
       "      <th>District 3</th>\n",
       "      <th>Scenario 1 (D_j - R_j)</th>\n",
       "      <th>Scenario 2 (D_j - R_j)</th>\n",
       "      <th>Scenario 3 (D_j - R_j)</th>\n",
       "    </tr>\n",
       "    <tr>\n",
       "      <th>County Num</th>\n",
       "      <th></th>\n",
       "      <th></th>\n",
       "      <th></th>\n",
       "      <th></th>\n",
       "      <th></th>\n",
       "      <th></th>\n",
       "      <th></th>\n",
       "    </tr>\n",
       "  </thead>\n",
       "  <tbody>\n",
       "    <tr>\n",
       "      <th>1</th>\n",
       "      <td>Bernalillo</td>\n",
       "      <td>1.0</td>\n",
       "      <td>0.0</td>\n",
       "      <td>0.0</td>\n",
       "      <td>42941</td>\n",
       "      <td>43411</td>\n",
       "      <td>11336</td>\n",
       "    </tr>\n",
       "    <tr>\n",
       "      <th>2</th>\n",
       "      <td>Catron</td>\n",
       "      <td>0.0</td>\n",
       "      <td>1.0</td>\n",
       "      <td>0.0</td>\n",
       "      <td>-917</td>\n",
       "      <td>18</td>\n",
       "      <td>-716</td>\n",
       "    </tr>\n",
       "    <tr>\n",
       "      <th>3</th>\n",
       "      <td>Chaves</td>\n",
       "      <td>0.0</td>\n",
       "      <td>1.0</td>\n",
       "      <td>0.0</td>\n",
       "      <td>-6650</td>\n",
       "      <td>-6244</td>\n",
       "      <td>-6436</td>\n",
       "    </tr>\n",
       "    <tr>\n",
       "      <th>4</th>\n",
       "      <td>Cibola</td>\n",
       "      <td>0.0</td>\n",
       "      <td>1.0</td>\n",
       "      <td>0.0</td>\n",
       "      <td>1941</td>\n",
       "      <td>1449</td>\n",
       "      <td>1025</td>\n",
       "    </tr>\n",
       "    <tr>\n",
       "      <th>5</th>\n",
       "      <td>Colfax</td>\n",
       "      <td>0.0</td>\n",
       "      <td>0.0</td>\n",
       "      <td>1.0</td>\n",
       "      <td>116</td>\n",
       "      <td>-871</td>\n",
       "      <td>-1099</td>\n",
       "    </tr>\n",
       "  </tbody>\n",
       "</table></div>"
      ],
      "text/plain": [
       "                County  District 1  District 2  District 3  \\\n",
       "County Num                                                   \n",
       "1           Bernalillo         1.0         0.0         0.0   \n",
       "2               Catron         0.0         1.0         0.0   \n",
       "3               Chaves         0.0         1.0         0.0   \n",
       "4               Cibola         0.0         1.0         0.0   \n",
       "5               Colfax         0.0         0.0         1.0   \n",
       "\n",
       "            Scenario 1 (D_j - R_j)  Scenario 2 (D_j - R_j)  \\\n",
       "County Num                                                   \n",
       "1                            42941                   43411   \n",
       "2                             -917                      18   \n",
       "3                            -6650                   -6244   \n",
       "4                             1941                    1449   \n",
       "5                              116                    -871   \n",
       "\n",
       "            Scenario 3 (D_j - R_j)  \n",
       "County Num                          \n",
       "1                            11336  \n",
       "2                             -716  \n",
       "3                            -6436  \n",
       "4                             1025  \n",
       "5                            -1099  "
      ]
     },
     "execution_count": 54,
     "metadata": {},
     "output_type": "execute_result"
    }
   ],
   "source": [
    "#Import Data\n",
    "df = pd.read_excel('GerrymanderingData.xlsx', index_col=0)\n",
    "#Fill empty district values with 0\n",
    "df = df.fillna(0)\n",
    "df.head()"
   ]
  },
  {
   "cell_type": "code",
   "execution_count": 55,
   "metadata": {},
   "outputs": [],
   "source": [
    "#Create Array of Original Disctricts, using 1-2-3 for indication of district\n",
    "d1 = df['District 1'].values\n",
    "d2 = df['District 2'].values*2\n",
    "d3 = df['District 3'].values*3\n",
    "og_district = d1+d2+d3"
   ]
  },
  {
   "cell_type": "code",
   "execution_count": 56,
   "metadata": {},
   "outputs": [],
   "source": [
    "#Import New Mexico Shape data into geopandas (changefile path)\n",
    "path = \"/Users/davisgiles/Desktop/Engineering/Python/Data Science Exercises/Gerrymandering/tl_2010_35_county10_shp/tl_2010_35_county10.shp\"\n",
    "geo_df = gpd.read_file(path)\n",
    "geo_df = geo_df.to_crs(\"EPSG:4326\")\n",
    "\n",
    "#Sort by name, store original district values & results\n",
    "geo_df = geo_df.sort_values('NAME10')\n",
    "geo_df['OG District'] = og_district\n",
    "geo_df['Results 1'] = df['Scenario 1 (D_j - R_j)'].values\n",
    "geo_df['Results 2'] = df['Scenario 2 (D_j - R_j)'].values\n",
    "geo_df['Results 3'] = df['Scenario 3 (D_j - R_j)'].values"
   ]
  },
  {
   "cell_type": "code",
   "execution_count": 57,
   "metadata": {},
   "outputs": [],
   "source": [
    "def plot_map(col, title, ticks=False):\n",
    "    fig, ax = plt.subplots(1, 1, figsize=(5,5))\n",
    "    if ticks:\n",
    "        geo_df.plot(column=col, ax=ax, legend=True,legend_kwds={'ticks':ticks,'label': \"District\",'orientation': \"vertical\"}, cmap='RdBu', edgecolor='black')\n",
    "    else:\n",
    "        geo_df.plot(column=col, ax=ax, legend=True,legend_kwds={'label': \"Margin (D_j - R_j)\",'orientation': \"vertical\"}, cmap='viridis', edgecolor='black')\n",
    "    plt.title(title)\n",
    "    ax.set_axis_off()"
   ]
  },
  {
   "cell_type": "code",
   "execution_count": 58,
   "metadata": {},
   "outputs": [],
   "source": [
    "def get_num_counties(x):\n",
    "    county = 0\n",
    "    district_array = x.value\n",
    "    for i in np.arange(33):\n",
    "        county += district_array[i]\n",
    "    return county"
   ]
  },
  {
   "cell_type": "markdown",
   "metadata": {},
   "source": [
    "# <center> Original Districting and Scenario 1 Voting Margin Map"
   ]
  },
  {
   "cell_type": "code",
   "execution_count": 59,
   "metadata": {},
   "outputs": [
    {
     "data": {
      "image/png": "[encoded data removed]",
      "text/plain": [
       "<Figure size 360x360 with 2 Axes>"
      ]
     },
     "metadata": {
      "needs_background": "light"
     },
     "output_type": "display_data"
    },
    {
     "data": {
      "image/png": "[encoded data removed]",
      "text/plain": [
       "<Figure size 360x360 with 2 Axes>"
      ]
     },
     "metadata": {
      "needs_background": "light"
     },
     "output_type": "display_data"
    }
   ],
   "source": [
    "plot_map('OG District', 'Original New Mexico Districting', [1,2,3])\n",
    "plot_map('Results 1', 'Democratic Party Margins Per County')"
   ]
  },
  {
   "cell_type": "markdown",
   "metadata": {},
   "source": [
    "# <center> Problem 2.1"
   ]
  },
  {
   "cell_type": "code",
   "execution_count": 60,
   "metadata": {},
   "outputs": [
    {
     "data": {
      "text/plain": [
       "76197.0"
      ]
     },
     "execution_count": 60,
     "metadata": {},
     "output_type": "execute_result"
    },
    {
     "name": "stdout",
     "output_type": "stream",
     "text": [
      "Long-step dual simplex will be used\n"
     ]
    }
   ],
   "source": [
    "# Difference of Democrat to Republican votes per county\n",
    "Dj_Rj = df['Scenario 1 (D_j - R_j)'].values\n",
    "# Create optimization variables\n",
    "# 3 districts with 33 counties total\n",
    "x1 = Variable(33, boolean=True)\n",
    "x2 = Variable(33, boolean=True)\n",
    "x3 = Variable(33, boolean=True)\n",
    "\n",
    "# Max {votes per county * counties in district 2}\n",
    "objective = Maximize(Dj_Rj.T@x2)\n",
    "\n",
    "# Subject to:\n",
    "# Districts 1 and 3 win by at least 100 votes\n",
    "constraints = [x1@Dj_Rj.T >=100]\n",
    "constraints += [x3@Dj_Rj.T >=100]\n",
    "# Each district has at least 1 county\n",
    "constraints += [sum(x1) >=1]\n",
    "constraints += [sum(x2) >=1]\n",
    "constraints += [sum(x3) >=1]\n",
    "# Each county can only be in one district\n",
    "for i in np.arange(33):\n",
    "    constraints += [x1[i]+x2[i]+x3[i] == 1]\n",
    "\n",
    "#Solve objective Function\n",
    "sol = Problem(objective, constraints)\n",
    "sol.solve()"
   ]
  },
  {
   "cell_type": "code",
   "execution_count": 61,
   "metadata": {},
   "outputs": [
    {
     "name": "stdout",
     "output_type": "stream",
     "text": [
      "------------------- 2.1 Solution --------------------\n",
      "--------------------------------------------------\n",
      "optimal\n",
      "\n",
      "District 1 Votes : 100.0\n",
      "District 2 Votes : 76197.0\n",
      "District 3 Votes : 100.0\n",
      "\n",
      "Counties in District 1 = 13.0\n",
      "Counties in District 2 = 7.0\n",
      "Counties in District 3 = 13.0\n"
     ]
    }
   ],
   "source": [
    "# Output Results\n",
    "print(\"------------------- 2.1 Solution --------------------\")\n",
    "print(\"--------------------------------------------------\")\n",
    "print(f\"{sol.status}\\n\")\n",
    "print(f\"District 1 Votes : {x1.value@Dj_Rj}\")\n",
    "print(f\"District 2 Votes : {x2.value@Dj_Rj}\")\n",
    "print(f\"District 3 Votes : {x3.value@Dj_Rj}\\n\")\n",
    "print(f\"Counties in District 1 = {get_num_counties(x1)}\")\n",
    "print(f\"Counties in District 2 = {get_num_counties(x2)}\")\n",
    "print(f\"Counties in District 3 = {get_num_counties(x3)}\")"
   ]
  },
  {
   "cell_type": "code",
   "execution_count": 62,
   "metadata": {},
   "outputs": [
    {
     "data": {
      "image/png": "[encoded data removed]",
      "text/plain": [
       "<Figure size 360x360 with 2 Axes>"
      ]
     },
     "metadata": {
      "needs_background": "light"
     },
     "output_type": "display_data"
    }
   ],
   "source": [
    "# Plot New Districting \n",
    "d1 = x1.value\n",
    "d2 = x2.value*2\n",
    "d3 = x3.value*3\n",
    "district = d1+d2+d3\n",
    "geo_df['2.1 District'] = district\n",
    "plot_map('2.1 District', 'Problem 2.1: District Breakdown', [1,2,3])"
   ]
  },
  {
   "cell_type": "markdown",
   "metadata": {},
   "source": [
    "# <center> Problem 2.3"
   ]
  },
  {
   "cell_type": "code",
   "execution_count": 63,
   "metadata": {},
   "outputs": [
    {
     "data": {
      "text/plain": [
       "32.0"
      ]
     },
     "execution_count": 63,
     "metadata": {},
     "output_type": "execute_result"
    },
    {
     "name": "stdout",
     "output_type": "stream",
     "text": [
      "Long-step dual simplex will be used\n"
     ]
    }
   ],
   "source": [
    "# Difference of Democrat to Republican votes per county\n",
    "Dj_Rj = df['Scenario 1 (D_j - R_j)'].values\n",
    "# Store original districts\n",
    "d1 = df['District 1'].values\n",
    "d2 = df['District 2'].values\n",
    "d3 = df['District 3'].values\n",
    "# Create optimization variables\n",
    "# 3 districts with 33 counties total\n",
    "x1 = Variable(33, boolean=True)\n",
    "x2 = Variable(33, boolean=True)\n",
    "x3 = Variable(33, boolean=True)\n",
    "\n",
    "# Max {Original District * New District}\n",
    "objective = Maximize(d1.T@x1+d2.T@x2+d3.T@x3)\n",
    "# Subject to:\n",
    "# Districts 1,2,3 win by at least 100 votes\n",
    "constraints += [x1@Dj_Rj.T >= 100]\n",
    "constraints = [x2@Dj_Rj.T >= 100]\n",
    "constraints += [x3@Dj_Rj.T >= 100]\n",
    "# Each district has at least 1 county\n",
    "constraints += [sum(x1) >=1]\n",
    "constraints += [sum(x2) >=1]\n",
    "constraints += [sum(x3) >=1]\n",
    "# Each county can only be in one district\n",
    "for i in np.arange(33):\n",
    "    constraints += [x1[i]+x2[i]+x3[i] == 1]\n",
    "\n",
    "# Solve objective Function\n",
    "sol = Problem(objective, constraints)\n",
    "sol.solve()"
   ]
  },
  {
   "cell_type": "code",
   "execution_count": 64,
   "metadata": {},
   "outputs": [
    {
     "name": "stdout",
     "output_type": "stream",
     "text": [
      "------------------- 2.3 Solution --------------------\n",
      "--------------------------------------------------\n",
      "optimal\n",
      "\n",
      "District 1 Votes : 41834.0\n",
      "District 2 Votes : 16330.0\n",
      "District 3 Votes : 18233.0\n",
      "\n",
      "Counties in District 1 = 2.0\n",
      "Counties in District 2 = 18.0\n",
      "Counties in District 3 = 13.0\n"
     ]
    }
   ],
   "source": [
    "# Output Results\n",
    "print(\"------------------- 2.3 Solution --------------------\")\n",
    "print(\"--------------------------------------------------\")\n",
    "print(f\"{sol.status}\\n\")\n",
    "print(f\"District 1 Votes : {x1.value@Dj_Rj}\")\n",
    "print(f\"District 2 Votes : {x2.value@Dj_Rj}\")\n",
    "print(f\"District 3 Votes : {x3.value@Dj_Rj}\\n\")\n",
    "print(f\"Counties in District 1 = {get_num_counties(x1)}\")\n",
    "print(f\"Counties in District 2 = {get_num_counties(x2)}\")\n",
    "print(f\"Counties in District 3 = {get_num_counties(x3)}\")"
   ]
  },
  {
   "cell_type": "code",
   "execution_count": 65,
   "metadata": {},
   "outputs": [
    {
     "data": {
      "image/png": "[encoded data removed]",
      "text/plain": [
       "<Figure size 360x360 with 2 Axes>"
      ]
     },
     "metadata": {
      "needs_background": "light"
     },
     "output_type": "display_data"
    }
   ],
   "source": [
    "# Plot new districting \n",
    "d1 = x1.value\n",
    "d2 = x2.value*2\n",
    "d3 = x3.value*3\n",
    "district = d1+d2+d3\n",
    "geo_df['2.3 District'] = district\n",
    "plot_map('2.3 District', 'Problem 2.3: District Breakdown', [1,2,3])"
   ]
  },
  {
   "cell_type": "code",
   "execution_count": 66,
   "metadata": {},
   "outputs": [
    {
     "name": "stdout",
     "output_type": "stream",
     "text": [
      "(array([26]),)\n"
     ]
    }
   ],
   "source": [
    "# Determine which counties changed from original districting\n",
    "county_change = np.array(geo_df['2.3 District'] - og_district)\n",
    "result = np.where(county_change !=0)\n",
    "print(result)"
   ]
  },
  {
   "cell_type": "code",
   "execution_count": 67,
   "metadata": {},
   "outputs": [
    {
     "name": "stdout",
     "output_type": "stream",
     "text": [
      "Santa Fe\n"
     ]
    }
   ],
   "source": [
    "# Locate index provided above\n",
    "print(df['County'].iloc[26])"
   ]
  },
  {
   "cell_type": "markdown",
   "metadata": {},
   "source": [
    "# <center> Problem 3.3"
   ]
  },
  {
   "cell_type": "code",
   "execution_count": 68,
   "metadata": {},
   "outputs": [
    {
     "data": {
      "text/plain": [
       "31.0"
      ]
     },
     "execution_count": 68,
     "metadata": {},
     "output_type": "execute_result"
    },
    {
     "name": "stdout",
     "output_type": "stream",
     "text": [
      "Long-step dual simplex will be used\n"
     ]
    }
   ],
   "source": [
    "# Difference of Democrat to Republican votes per county\n",
    "Dj_Rj = df['Scenario 1 (D_j - R_j)'].values\n",
    "# Store original districts\n",
    "d1 = df['District 1'].values\n",
    "d2 = df['District 2'].values\n",
    "d3 = df['District 3'].values\n",
    "# Create optimization variables\n",
    "# 3 districts with 33 counties total\n",
    "x1 = Variable(33, boolean=True)\n",
    "x2 = Variable(33, boolean=True)\n",
    "x3 = Variable(33, boolean=True)\n",
    "\n",
    "# Max {Original District * New District}\n",
    "objective = Maximize(d1.T@x1+d2.T@x2+d3.T@x3)\n",
    "# Subject to:\n",
    "# Districts 1,2,3 win by at least 100 votes\n",
    "constraints += [x1@Dj_Rj.T >= 100]\n",
    "constraints = [x2@Dj_Rj.T >= 100]\n",
    "constraints += [x3@Dj_Rj.T >= 100]\n",
    "# Each district has at least 1 county\n",
    "constraints += [sum(x1) >=1]\n",
    "constraints += [sum(x2) >=1]\n",
    "constraints += [sum(x3) >=1]\n",
    "#Both Socorro (county 29) and Torrance (county 31) must be in the same district\n",
    "constraints += [x1[28]+2*x2[28]+3*x3[28] == x1[30]+2*x2[30]+3*x3[30]]\n",
    "# Exactly one of Santa Fe (county 27) or Dona Ana (county 8) must be in district 2\n",
    "constraints += [x2[26] + x2[7] == 1]\n",
    "# Each county can only be in one district\n",
    "for i in np.arange(33):\n",
    "    constraints += [x1[i]+x2[i]+x3[i] == 1]\n",
    "\n",
    "# Solve objective function\n",
    "sol = Problem(objective, constraints)\n",
    "sol.solve()"
   ]
  },
  {
   "cell_type": "code",
   "execution_count": 69,
   "metadata": {},
   "outputs": [
    {
     "name": "stdout",
     "output_type": "stream",
     "text": [
      "------------------- 3.3 Solution --------------------\n",
      "--------------------------------------------------\n",
      "optimal\n",
      "\n",
      "District 1 Votes : 178.0\n",
      "District 2 Votes : 23463.0\n",
      "District 3 Votes : 52756.0\n",
      "\n",
      "Counties in District 1 = 2.0\n",
      "Counties in District 2 = 17.0\n",
      "Counties in District 3 = 14.0\n"
     ]
    }
   ],
   "source": [
    "# Output Results\n",
    "print(\"------------------- 3.3 Solution --------------------\")\n",
    "print(\"--------------------------------------------------\")\n",
    "print(f\"{sol.status}\\n\")\n",
    "print(f\"District 1 Votes : {x1.value@Dj_Rj}\")\n",
    "print(f\"District 2 Votes : {x2.value@Dj_Rj}\")\n",
    "print(f\"District 3 Votes : {x3.value@Dj_Rj}\\n\")\n",
    "print(f\"Counties in District 1 = {get_num_counties(x1)}\")\n",
    "print(f\"Counties in District 2 = {get_num_counties(x2)}\")\n",
    "print(f\"Counties in District 3 = {get_num_counties(x3)}\")"
   ]
  },
  {
   "cell_type": "code",
   "execution_count": 70,
   "metadata": {},
   "outputs": [
    {
     "data": {
      "image/png": "[encoded data removed]",
      "text/plain": [
       "<Figure size 360x360 with 2 Axes>"
      ]
     },
     "metadata": {
      "needs_background": "light"
     },
     "output_type": "display_data"
    }
   ],
   "source": [
    "# Plot new districting\n",
    "d1 = x1.value\n",
    "d2 = x2.value*2\n",
    "d3 = x3.value*3\n",
    "district = d1+d2+d3\n",
    "geo_df['3.3 District'] = district\n",
    "plot_map('3.3 District', 'Problem 3.3: District Breakdown', [1,2,3])"
   ]
  },
  {
   "cell_type": "code",
   "execution_count": 71,
   "metadata": {},
   "outputs": [
    {
     "name": "stdout",
     "output_type": "stream",
     "text": [
      "(array([ 0, 28]),)\n"
     ]
    }
   ],
   "source": [
    "# Determine which counties changed from original districting\n",
    "county_change = np.array(geo_df['3.3 District'] - og_district)\n",
    "result = np.where(county_change !=0)\n",
    "print(result)"
   ]
  },
  {
   "cell_type": "code",
   "execution_count": 72,
   "metadata": {},
   "outputs": [
    {
     "name": "stdout",
     "output_type": "stream",
     "text": [
      "Bernalillo\n",
      "Socorro\n"
     ]
    }
   ],
   "source": [
    "# Locate indices provided above\n",
    "print(df['County'].iloc[0])\n",
    "print(df['County'].iloc[28])"
   ]
  },
  {
   "cell_type": "markdown",
   "metadata": {},
   "source": [
    "# <center> Problem 4.1"
   ]
  },
  {
   "cell_type": "code",
   "execution_count": 73,
   "metadata": {},
   "outputs": [
    {
     "data": {
      "text/plain": [
       "31.0"
      ]
     },
     "execution_count": 73,
     "metadata": {},
     "output_type": "execute_result"
    },
    {
     "name": "stdout",
     "output_type": "stream",
     "text": [
      "Long-step dual simplex will be used\n"
     ]
    }
   ],
   "source": [
    "# Difference of Democrat to Republican votes per county\n",
    "Dj_Rj = df['Scenario 2 (D_j - R_j)'].values\n",
    "# Store original districts\n",
    "d1 = df['District 1'].values\n",
    "d2 = df['District 2'].values\n",
    "d3 = df['District 3'].values\n",
    "# Create optimization variables\n",
    "# 3 districts with 33 counties total\n",
    "x1 = Variable(33, boolean=True)\n",
    "x2 = Variable(33, boolean=True)\n",
    "x3 = Variable(33, boolean=True)\n",
    "\n",
    "# Max {Original District * New District}\n",
    "objective = Maximize(d1.T@x1+d2.T@x2+d3.T@x3)\n",
    "# Subject to:\n",
    "# Districts 1,2,3 win by at least 100 votes\n",
    "constraints += [x1@Dj_Rj.T >= 100]\n",
    "constraints = [x2@Dj_Rj.T >= 100]\n",
    "constraints += [x3@Dj_Rj.T >= 100]\n",
    "# Each district has at least 1 county\n",
    "constraints += [sum(x1) >=1]\n",
    "constraints += [sum(x2) >=1]\n",
    "constraints += [sum(x3) >=1]\n",
    "#Both Socorro (county 29) and Torrance (county 31) must be in the same district\n",
    "constraints += [x1[28]+2*x2[28]+3*x3[28] == x1[30]+2*x2[30]+3*x3[30]]\n",
    "# Exactly one of Santa Fe (county 27) or Dona Ana (county 8) must be in district 2\n",
    "constraints += [x2[26] + x2[7] == 1]\n",
    "# Each county can only be in one district\n",
    "for i in np.arange(33):\n",
    "    constraints += [x1[i]+x2[i]+x3[i] == 1]\n",
    "\n",
    "# Solve objective function\n",
    "sol = Problem(objective, constraints)\n",
    "sol.solve()"
   ]
  },
  {
   "cell_type": "code",
   "execution_count": 74,
   "metadata": {},
   "outputs": [
    {
     "name": "stdout",
     "output_type": "stream",
     "text": [
      "------------------- 4.1 Solution --------------------\n",
      "--------------------------------------------------\n",
      "optimal\n",
      "\n",
      "District 1 Votes : -489.0\n",
      "District 2 Votes : 24899.0\n",
      "District 3 Votes : 51662.0\n",
      "\n",
      "Counties in District 1 = 2.0\n",
      "Counties in District 2 = 17.0\n",
      "Counties in District 3 = 14.0\n"
     ]
    }
   ],
   "source": [
    "# Output Results\n",
    "print(\"------------------- 4.1 Solution --------------------\")\n",
    "print(\"--------------------------------------------------\")\n",
    "print(f\"{sol.status}\\n\")\n",
    "print(f\"District 1 Votes : {x1.value@Dj_Rj}\")\n",
    "print(f\"District 2 Votes : {x2.value@Dj_Rj}\")\n",
    "print(f\"District 3 Votes : {x3.value@Dj_Rj}\\n\")\n",
    "print(f\"Counties in District 1 = {get_num_counties(x1)}\")\n",
    "print(f\"Counties in District 2 = {get_num_counties(x2)}\")\n",
    "print(f\"Counties in District 3 = {get_num_counties(x3)}\")"
   ]
  },
  {
   "cell_type": "code",
   "execution_count": 75,
   "metadata": {},
   "outputs": [
    {
     "data": {
      "image/png": "[encoded data removed]",
      "text/plain": [
       "<Figure size 360x360 with 2 Axes>"
      ]
     },
     "metadata": {
      "needs_background": "light"
     },
     "output_type": "display_data"
    }
   ],
   "source": [
    "d1 = x1.value\n",
    "d2 = x2.value*2\n",
    "d3 = x3.value*3\n",
    "district = d1+d2+d3\n",
    "geo_df['4.1 District'] = district\n",
    "plot_map('4.1 District', 'Problem 4.1: District Breakdown', [1,2,3])"
   ]
  },
  {
   "cell_type": "code",
   "execution_count": 76,
   "metadata": {},
   "outputs": [
    {
     "name": "stdout",
     "output_type": "stream",
     "text": [
      "(array([ 0, 28]),)\n"
     ]
    }
   ],
   "source": [
    "# Determine which counties changed from original districting\n",
    "county_change = np.array(geo_df['4.1 District'] - og_district)\n",
    "result = np.where(county_change !=0)\n",
    "print(result)"
   ]
  },
  {
   "cell_type": "code",
   "execution_count": 77,
   "metadata": {},
   "outputs": [
    {
     "name": "stdout",
     "output_type": "stream",
     "text": [
      "Bernalillo\n",
      "Socorro\n"
     ]
    }
   ],
   "source": [
    "# Locate indices provided above\n",
    "print(df['County'].iloc[0])\n",
    "print(df['County'].iloc[28])"
   ]
  },
  {
   "cell_type": "markdown",
   "metadata": {},
   "source": [
    "# <center> Problem 4.2"
   ]
  },
  {
   "cell_type": "code",
   "execution_count": 78,
   "metadata": {},
   "outputs": [
    {
     "data": {
      "text/plain": [
       "29.0"
      ]
     },
     "execution_count": 78,
     "metadata": {},
     "output_type": "execute_result"
    },
    {
     "name": "stdout",
     "output_type": "stream",
     "text": [
      "Long-step dual simplex will be used\n"
     ]
    }
   ],
   "source": [
    "# Difference of Democrat to Republican votes per county\n",
    "scenario1 = df['Scenario 1 (D_j - R_j)'].values\n",
    "scenario2 = df['Scenario 2 (D_j - R_j)'].values\n",
    "scenario3 = df['Scenario 3 (D_j - R_j)'].values\n",
    "# Store original districts\n",
    "d1 = df['District 1'].values\n",
    "d2 = df['District 2'].values\n",
    "d3 = df['District 3'].values\n",
    "# Create optimization variables\n",
    "# 3 districts with 33 counties total\n",
    "x1 = Variable(33, boolean=True)\n",
    "x2 = Variable(33, boolean=True)\n",
    "x3 = Variable(33, boolean=True)\n",
    "\n",
    "# Max {Original District * New District}\n",
    "objective = Maximize(d1.T@x1+d2.T@x2+d3.T@x3)\n",
    "# Subject to:\n",
    "# Districts 1,2,3 win by at least 12000 votes\n",
    "constraints = [x1@scenario1.T >= 12000]\n",
    "constraints += [x2@scenario1.T >= 12000]\n",
    "constraints += [x3@scenario1.T >= 12000]\n",
    "constraints += [x1@scenario2.T >= 12000]\n",
    "constraints += [x2@scenario2.T >= 12000]\n",
    "constraints += [x3@scenario2.T >= 12000]\n",
    "constraints += [x1@scenario3.T >= 12000]\n",
    "constraints += [x2@scenario3.T >= 12000]\n",
    "constraints += [x3@scenario3.T >= 12000]\n",
    "# Each district has at least 1 county\n",
    "constraints += [sum(x1) >=1]\n",
    "constraints += [sum(x2) >=1]\n",
    "constraints += [sum(x3) >=1]\n",
    "#Both Socorro (county 29) and Torrance (county 31) must be in the same district\n",
    "constraints += [x1[28]+2*x2[28]+3*x3[28] == x1[30]+2*x2[30]+3*x3[30]]\n",
    "# Exactly one of Santa Fe (county 27) or Dona Ana (county 8) must be in district 2\n",
    "constraints += [x2[26] +x2[7] == 1]\n",
    "# Each county can only be in one district\n",
    "for i in np.arange(33):\n",
    "    constraints += [x1[i]+x2[i]+x3[i] == 1]\n",
    "\n",
    "# Solve objective function\n",
    "sol = Problem(objective, constraints)\n",
    "sol.solve()"
   ]
  },
  {
   "cell_type": "code",
   "execution_count": 79,
   "metadata": {},
   "outputs": [
    {
     "name": "stdout",
     "output_type": "stream",
     "text": [
      "------------------- 4.2 Solution --------------------\n",
      "--------------------------------------------------\n",
      "optimal\n",
      "\n",
      "Scenario 1 Results\n",
      "District 1 Votes : 43119.0\n",
      "District 2 Votes : 13271.0\n",
      "District 3 Votes : 20007.0\n",
      "\n",
      "Scenario 2 Results\n",
      "District 1 Votes : 42922.0\n",
      "District 2 Votes : 15096.0\n",
      "District 3 Votes : 18054.0\n",
      "\n",
      "Scenario 3 Results\n",
      "District 1 Votes : 12095.0\n",
      "District 2 Votes : 29723.0\n",
      "District 3 Votes : 22110.0\n",
      "\n",
      "Counties in District 1 = 3.0\n",
      "Counties in District 2 = 17.0\n",
      "Counties in District 3 = 13.0\n"
     ]
    }
   ],
   "source": [
    "# Output Results\n",
    "print(\"------------------- 4.2 Solution --------------------\")\n",
    "print(\"--------------------------------------------------\")\n",
    "print(f\"{sol.status}\\n\")\n",
    "print(\"Scenario 1 Results\")\n",
    "print(f\"District 1 Votes : {x1.value@scenario1}\")\n",
    "print(f\"District 2 Votes : {x2.value@scenario1}\")\n",
    "print(f\"District 3 Votes : {x3.value@scenario1}\\n\")\n",
    "print(\"Scenario 2 Results\")\n",
    "print(f\"District 1 Votes : {x1.value@scenario2}\")\n",
    "print(f\"District 2 Votes : {x2.value@scenario2}\")\n",
    "print(f\"District 3 Votes : {x3.value@scenario2}\\n\")\n",
    "print(\"Scenario 3 Results\")\n",
    "print(f\"District 1 Votes : {x1.value@scenario3}\")\n",
    "print(f\"District 2 Votes : {x2.value@scenario3}\")\n",
    "print(f\"District 3 Votes : {x3.value@scenario3}\\n\")\n",
    "print(f\"Counties in District 1 = {get_num_counties(x1)}\")\n",
    "print(f\"Counties in District 2 = {get_num_counties(x2)}\")\n",
    "print(f\"Counties in District 3 = {get_num_counties(x3)}\")"
   ]
  },
  {
   "cell_type": "code",
   "execution_count": 80,
   "metadata": {},
   "outputs": [
    {
     "data": {
      "image/png": "[encoded data removed]",
      "text/plain": [
       "<Figure size 360x360 with 2 Axes>"
      ]
     },
     "metadata": {
      "needs_background": "light"
     },
     "output_type": "display_data"
    }
   ],
   "source": [
    "# Plot new districting\n",
    "d1 = x1.value\n",
    "d2 = x2.value*2\n",
    "d3 = x3.value*3\n",
    "district = d1+d2+d3\n",
    "geo_df['4.2 District'] = district\n",
    "plot_map('4.2 District', 'Problem 4.2: District Breakdown', [1,2,3])"
   ]
  },
  {
   "cell_type": "code",
   "execution_count": 81,
   "metadata": {},
   "outputs": [
    {
     "name": "stdout",
     "output_type": "stream",
     "text": [
      "(array([ 7, 21, 26, 28]),)\n"
     ]
    }
   ],
   "source": [
    "# Determine which counties changed from original districting\n",
    "county_change = np.array(geo_df['4.2 District'] - og_district)\n",
    "result = np.where(county_change !=0)\n",
    "print(result)"
   ]
  },
  {
   "cell_type": "code",
   "execution_count": 82,
   "metadata": {},
   "outputs": [
    {
     "name": "stdout",
     "output_type": "stream",
     "text": [
      "Dona Ana\n",
      "Rio Arriba\n",
      "Santa Fe\n",
      "Socorro\n"
     ]
    }
   ],
   "source": [
    "# Locate indices provided above\n",
    "print(df['County'].iloc[7])\n",
    "print(df['County'].iloc[21])\n",
    "print(df['County'].iloc[26])\n",
    "print(df['County'].iloc[28])"
   ]
  }
 ],
 "metadata": {
  "interpreter": {
   "hash": "505aaac9b9553b689c776ead597378f6013aeaeeb3f9214095d0b496a16b63ec"
  },
  "kernelspec": {
   "display_name": "Python 3.8.2 64-bit ('base': conda)",
   "name": "python3"
  },
  "language_info": {
   "codemirror_mode": {
    "name": "ipython",
    "version": 3
   },
   "file_extension": ".py",
   "mimetype": "text/x-python",
   "name": "python",
   "nbconvert_exporter": "python",
   "pygments_lexer": "ipython3",
   "version": "3.8.2"
  },
  "orig_nbformat": 4
 },
 "nbformat": 4,
 "nbformat_minor": 2
}
